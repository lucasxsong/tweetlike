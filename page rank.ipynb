{
 "cells": [
  {
   "cell_type": "code",
   "execution_count": 1,
   "metadata": {},
   "outputs": [],
   "source": [
    "def pagerank(d, n, s):\n",
    "    return d/n + d*(s)"
   ]
  },
  {
   "cell_type": "code",
   "execution_count": 17,
   "metadata": {},
   "outputs": [
    {
     "name": "stdout",
     "output_type": "stream",
     "text": [
      "0.4666666666666667 0.4666666666666667 0.4666666666666667 0.13999999999999999 1.5555555555555554\n"
     ]
    }
   ],
   "source": [
    "d = 0.7 \n",
    "n = 5\n",
    "\n",
    "p1 = 0.76\n",
    "p2 = 0.76\n",
    "p3 = 0.76\n",
    "p4 = 0.6\n",
    "p5 = 1.46\n",
    "\n",
    "for i in range(10000):\n",
    "    np1 = pagerank(d, n, p3)\n",
    "    np2 = pagerank(d, n, p1)\n",
    "    np3 = pagerank(d, n, p2)\n",
    "    np4 = pagerank(d, n, 0)\n",
    "    np5 = pagerank(d, n, p2 + p5)\n",
    "    \n",
    "    p1 = np1\n",
    "    p2 = np2\n",
    "    p3 = np3\n",
    "    p4 = np4\n",
    "    p5 = np5\n",
    "   \n",
    "print(p1, p2, p3, p4, p5)\n"
   ]
  }
 ],
 "metadata": {
  "kernelspec": {
   "display_name": "Python 3",
   "language": "python",
   "name": "python3"
  },
  "language_info": {
   "codemirror_mode": {
    "name": "ipython",
    "version": 3
   },
   "file_extension": ".py",
   "mimetype": "text/x-python",
   "name": "python",
   "nbconvert_exporter": "python",
   "pygments_lexer": "ipython3",
   "version": "3.7.6"
  }
 },
 "nbformat": 4,
 "nbformat_minor": 4
}
