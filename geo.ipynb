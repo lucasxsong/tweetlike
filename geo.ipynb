{
 "cells": [
  {
   "cell_type": "code",
   "execution_count": 4,
   "metadata": {},
   "outputs": [
    {
     "name": "stderr",
     "output_type": "stream",
     "text": [
      "Matplotlib is building the font cache using fc-list. This may take a moment.\n"
     ]
    }
   ],
   "source": [
    "# visualize our ds points to properly decide how to segment\n",
    "import json\n",
    "import pandas as pd\n",
    "import geopandas\n",
    "import matplotlib.pyplot as plt"
   ]
  },
  {
   "cell_type": "code",
   "execution_count": 5,
   "metadata": {},
   "outputs": [],
   "source": [
    "import fileinput\n",
    "import re\n",
    "import os\n",
    "import time\n",
    "\n",
    "# helper function to convert our text files to json\n",
    "def text2json(text):\n",
    "    fin = fileinput.input(text, inplace=1)\n",
    "    for line in fin:\n",
    "        if fin.isfirstline():\n",
    "            print (\"[\" + line)\n",
    "        else:\n",
    "            print (\",\" + line)\n",
    "    fin.close()\n",
    "    \n",
    "    f = open(text,\"a\")\n",
    "    f.write(\"]\")\n",
    "    f.close()\n",
    "    \n",
    "# load json from textfile\n",
    "def loaddata(text): \n",
    "    # if json.load fails, format\n",
    "    try:\n",
    "        f = open(text, 'r')\n",
    "        data = json.load(f)\n",
    "        f.close()\n",
    "        return data \n",
    "    except:\n",
    "        print(\"Formatting \" + text + \"...\")\n",
    "        text2json(text)\n",
    "        return loaddata(text)\n"
   ]
  },
  {
   "cell_type": "code",
   "execution_count": null,
   "metadata": {},
   "outputs": [],
   "source": []
  },
  {
   "cell_type": "code",
   "execution_count": 56,
   "metadata": {},
   "outputs": [
    {
     "name": "stdout",
     "output_type": "stream",
     "text": [
      "{'id': '7d62cffe6f98f349', 'url': 'https://api.twitter.com/1.1/geo/id/7d62cffe6f98f349.json', 'place_type': 'city', 'name': 'San Jose', 'full_name': 'San Jose, CA', 'country_code': 'US', 'country': 'United States', 'bounding_box': {'type': 'Polygon', 'coordinates': [[[-122.035311, 37.193164], [-122.035311, 37.469154], [-121.71215, 37.469154], [-121.71215, 37.193164]]]}, 'attributes': {}}\n",
      "{'San Jose, CA': 100, 'Lakewood, CA': 8, 'Paradise, NV': 41, 'Riverside, CA': 23, 'Los Angeles, CA': 897, 'Santa Clarita, CA': 22, 'Pasadena, CA': 22, 'Cypress, CA': 6, 'San Francisco, CA': 190, 'Ontario, CA': 17, 'Barstow, CA': 1, 'Santa Monica, CA': 13, 'Valinda, CA': 1, 'California, USA': 181, 'San Diego, CA': 188, 'Menlo Park, CA': 1, 'Irvine, CA': 27, 'Carmichael, CA': 2, 'Long Beach, CA': 64, 'Arizona, USA': 74, 'Corona, CA': 11, 'Avocado Heights, CA': 2, 'Oakland, CA': 77, 'Compton, CA': 19, 'Mission Viejo, CA': 8, 'Antioch, CA': 15, 'Indio, CA': 13, 'Downey, CA': 18, 'Marina, San Francisco': 1, 'Enterprise, NV': 70, 'San Bernardino, CA': 26, 'Fontana, CA': 28, 'El Centro, CA': 2, 'Campbell, CA': 2, 'North Las Vegas, NV': 15, 'Valley State Prison': 1, 'Tijuana, Baja California': 18, 'East Palo Alto, CA': 3, 'Fremont, CA': 25, 'Las Vegas, NV': 91, 'Santa Ana, CA': 17, 'Bakersfield, CA': 32, 'La Quinta, CA': 7, 'Lancaster, CA': 15, 'Yuba City, CA': 4, 'Aptos, CA': 2, 'Lompoc, CA': 8, 'Idaho, USA': 12, 'Healdsburg, CA': 2, 'Eastvale, CA': 8, 'Rancho Cordova, CA': 6, 'Pomona, CA': 13, 'Yuma, AZ': 6, 'Richmond, CA': 12, 'México': 5, 'Livermore, CA': 9, 'The Embarcadero, San Francisco': 1, 'Roseville, CA': 9, 'Salinas, CA': 9, 'Fresno, CA': 48, 'Law Street Beach': 1, 'Nevada, USA': 61, 'Rancho Cucamonga, CA': 14, 'Napa, CA': 14, 'San Bruno, CA': 3, 'Burbank, CA': 21, 'Inner Sunset, San Francisco': 1, 'Bay Point, CA': 3, 'View Park-Windsor Hills, CA': 3, 'Pacifica, CA': 4, 'Rohnert Park, CA': 2, 'Coronado, CA': 2, 'Culver City, CA': 20, 'San Antonio Heights, CA': 4, 'San Luis Obispo, CA': 9, 'Moorpark, CA': 6, 'Watsonville, CA': 3, 'Goleta, CA': 4, 'Vallejo, CA': 8, 'San Clemente, CA': 6, 'Westlake Village, CA': 1, 'Rialto, CA': 9, 'Sacramento, CA': 51, 'Huntington Beach Dog Park': 1, 'Davis, CA': 9, 'Carlsbad, CA': 10, 'Chula Vista, CA': 23, 'Santa Clara, CA': 8, 'Yucca Valley, CA': 1, 'Santa Rosa, CA': 2, 'Newport Beach, CA': 8, 'Isla Vista, CA': 5, 'Hesperia, CA': 10, 'Hawthorne, CA': 7, 'Citrus Heights, CA': 1, 'Buena Park, CA': 8, 'Port Hueneme, CA': 2, 'Concord, CA': 14, 'Oregon, USA': 32, 'Sedco Hills, CA': 3, 'Utah, USA': 17, 'Cheese Board Pizza': 1, 'Anaheim, CA': 33, 'Arroyo Grande, CA': 1, 'Berkeley, CA': 23, 'West Hollywood, CA': 19, 'East San Gabriel, CA': 3, 'Laguna Hills, CA': 8, 'Moreno Valley, CA': 15, 'Sparks, NV': 7, 'Thousand Oaks, CA': 14, 'Alameda, CA': 6, 'Fullerton, CA': 12, 'Beverly Hills, CA': 10, 'Colton, CA': 3, 'Antelope, CA': 5, 'Hayward, CA': 19, 'Brawley, CA': 1, 'Foster City, CA': 6, 'Oxnard, CA': 19, 'Arden-Arcade, CA': 2, 'Boulder City, NV': 1, 'Newark, CA': 1, 'Redwood City, CA': 8, 'Livingston, CA': 3, 'Summerlin South, NV': 10, 'Marysville, CA': 1, 'Norwalk, CA': 8, 'Sunnyvale, CA': 5, 'Piedmont, CA': 2, 'Bell Canyon, CA': 1, 'Imperial Beach, CA': 4, 'Parkwood, CA': 3, 'Carmel, CA': 2, 'Redondo Beach, CA': 14, 'Inglewood, CA': 32, 'Temecula, CA': 14, 'South San Francisco, CA': 8, 'Artesia, CA': 2, 'Murrieta, CA': 7, 'La Puente, CA': 3, 'West Sacramento, CA': 2, 'Rossmoor, CA': 1, 'Tustin, CA': 3, 'Montebello, CA': 4, 'Monterey, CA': 4, 'Oceano Beach State Park': 1, 'Agoura Hills, CA': 6, 'Orange, CA': 5, 'Bullhead City, AZ': 4, 'Pleasanton, CA': 5, 'East Rancho Dominguez, CA': 1, 'Rubidoux, CA': 2, 'Ambassador Inn': 6, 'Ashland, CA': 1, 'Foothill Farms, CA': 1, 'Truckee, CA': 4, 'Boronda, CA': 2, 'PALM SPRINGS': 2, 'Twentynine Palms Base, CA': 2, 'Atherton, CA': 3, 'Florence-Graham, CA': 6, 'East Los Angeles, CA': 6, 'Clovis, CA': 13, 'Shafter, CA': 1, 'Kentfield, CA': 3, 'Madera, CA': 5, 'Fillmore, CA': 1, 'Henderson, NV': 28, 'South Gate, CA': 5, \"Lowe's\": 1, 'Torrance, CA': 16, 'Pinole, CA': 2, 'Los Gatos, CA': 2, 'Huntington Beach, CA': 29, 'San Lorenzo, CA': 2, 'Modesto, CA': 16, 'Vista, CA': 6, 'Rosemont, CA': 4, 'Wildomar, CA': 2, 'Bloomington, CA': 7, 'Santa Barbara, CA': 9, 'Sabre Springs, San Diego': 2, 'Dana Point, CA': 2, 'Carson, CA': 14, 'Simi Valley, CA': 5, 'Orange Silicon Valley': 1, 'Hermosa Beach, CA': 21, 'Kerman, CA': 2, 'Palo Alto, CA': 17, 'Garden Grove, CA': 8, 'August, CA': 7, 'La Habra, CA': 4, 'Lynwood, CA': 8, 'Sunrise Manor, NV': 13, 'Reno, NV': 14, 'Fairfield, CA': 7, 'Reliez Valley, CA': 5, 'Redding, CA': 6, 'Marina, CA': 6, 'Monrovia, CA': 8, 'Coto de Caza, CA': 1, 'Oakdale, CA': 1, 'La Verne, CA': 3, 'Carson City, NV': 4, 'San Marcos, CA': 12, 'Gardena, CA': 2, 'Ridgecrest, CA': 3, 'Coachella, CA': 2, 'Vacaville, CA': 6, 'Arcadia, CA': 5, 'Gilroy, CA': 2, 'Scotts Valley, CA': 1, 'Porterville, CA': 1, 'West Las Vegas, Las Vegas': 2, 'Slate Bistro & Craft Bar': 1, 'Oceanside, CA': 17, 'Stockton, CA': 10, 'Westminster, CA': 3, 'Baldwin Park, CA': 3, 'Walnut Park, CA': 1, 'Elk Grove, CA': 10, 'Escondido, CA': 4, 'Pahrump, NV': 1, 'Costa Mesa, CA': 8, 'Merced, CA': 6, 'Winchester, NV': 8, 'Chino, CA': 6, 'Pacific Grove, CA': 1, 'Martinez, CA': 1, 'Desert Hot Springs, CA': 4, 'Aliso Viejo, CA': 3, 'Glendora, CA': 1, 'Mountain View, CA': 12, 'Hollister, CA': 2, 'West Carson, CA': 1, 'Rocklin, CA': 8, 'Folsom, CA': 3, 'San Leandro, CA': 9, 'Beaumont, CA': 4, 'La Mesa, CA': 3, 'Mid-City West, Los Angeles': 1, 'Milpitas, CA': 7, 'Malibu, CA': 2, 'West Covina, CA': 5, 'Oildale, CA': 1, 'El Monte, CA': 6, 'Palm Springs, CA': 8, 'Poway, CA': 2, 'La Mirada, CA': 6, 'Azusa, CA': 3, 'Sherman Oaks, Los Angeles': 1, 'Palmdale, CA': 12, 'Spring Valley Lake, CA': 2, 'Willowbrook, CA': 3, 'San Anselmo, CA': 4, 'Nuevo, CA': 1, 'La Crescenta-Montrose, CA': 5, 'Arcata, CA': 2, 'Upland, CA': 5, 'El Cerrito, CA': 5, 'San Mateo, CA': 5, 'Oroville, CA': 2, 'Cupertino, CA': 4, 'Oakley, CA': 3, 'Walnut Creek, CA': 3, 'Mexicali, Baja California': 7, 'Encinitas, CA': 11, 'Cerritos, CA': 4, 'Huron, CA': 1, 'Menifee, CA': 4, 'Petaluma, CA': 2, 'Gardnerville Ranchos, NV': 1, 'Calabasas, CA': 3, 'Pico Rivera, CA': 6, 'Granite Bay, CA': 2, 'Goat Rock State Beach': 1, 'Santa Fe Springs, CA': 1, 'Dogpatch, San Francisco': 2, 'Camp Pendleton North, CA': 1, 'Castro Valley, CA': 4, 'Redlands, CA': 5, 'San Jacinto, CA': 1, 'Salida, CA': 1, 'Apple Valley, CA': 3, 'Yorba Linda, CA': 5, 'Numero Uno Market': 1, 'Visalia, CA': 6, 'Vernon, CA': 1, 'Strawberry, CA': 1, 'Bellflower, CA': 12, 'LvL Up': 1, 'Anderson, CA': 8, 'Somis, CA': 1, 'Pleasant Hill, CA': 2, 'Camarillo, CA': 1, 'Signal Hill, CA': 1, 'Lodi, CA': 6, 'San Pablo, CA': 3, 'Mogul, NV': 3, 'Laguna Beach, CA': 3, 'Victorville, CA': 5, 'Twitter HQ': 4, 'Woodcrest, CA': 3, 'Santa Cruz, CA': 5, 'The Las Vegas Strip, Paradise': 1, 'Brentwood, CA': 12, 'Verdi, NV': 3, 'Riverbank, CA': 1, 'Florin, CA': 2, 'Madera Acres, CA': 4, 'Bora Bora': 1, 'Chico, CA': 3, 'Lemoore Station, CA': 1, 'Tulare, CA': 6, 'Rio del Mar, CA': 3, 'Westmont, CA': 2, 'Santa Paula, CA': 1, 'Lemoore, CA': 3, 'Casitas Springs, CA': 1, 'Almaden Quicksilver County Park': 1, 'Oceano, CA': 1, 'Madera Ranchos, CA': 3, 'Mendota, CA': 1, 'Kingsburg, CA': 2, 'King City, CA': 2, 'North El Monte, CA': 1, 'West Puente Valley, CA': 2, 'Raceway Ford': 1, 'Placentia, CA': 8, 'Cambrian Park, CA': 2, 'Fair Oaks, CA': 1, 'Rodeo, CA': 1, 'Pie De Pie': 1, 'Lakeside, CA': 1, 'Mission, San Francisco': 3, 'Alhambra, CA': 6, 'Seaside, CA': 2, 'Foothill Ranch, CA': 1, 'Manteca, CA': 4, 'Rancho Park, Los Angeles': 1, 'San Ramon, CA': 1, 'Norco, CA': 1, 'San Gabriel, CA': 2, 'Rancho Palos Verdes, CA': 3, 'Sun City, CA': 2, 'Riverside Municipal Airport': 1, 'Danville, CA': 9, 'Yucaipa, CA': 4, 'Santee, CA': 4, 'Fort Irwin, CA': 1, 'Atwater, CA': 2, 'Fort Mason, San Francisco': 1, 'South Whittier, CA': 3, 'Beetle House': 1, 'Garden Acres, CA': 1, 'McFarland, CA': 1, 'Paso Robles, CA': 2, 'Mission Bay, San Francisco': 1, 'Yerington, NV': 1, 'Red Bluff, CA': 1, 'El Sobrante, CA': 4, 'American Canyon, CA': 2, 'El Cajon, CA': 3, 'McSwain, CA': 1, 'Maywood, CA': 2, 'Ventura, CA': 8, 'Coronado, San Diego, CA': 1, 'East la Mirada, CA': 3, 'Corte Madera, CA': 1, 'Quartz Hill, CA': 1, 'Lafayette, CA': 8, 'Chino Hills, CA': 3, 'Palm Desert, CA': 5, 'Yreka, CA': 3, 'Daly City, CA': 2, 'Lomita, CA': 2, 'Ceres, CA': 3, 'Whitney, NV': 1, 'The Haight, San Francisco': 1, 'Greenfield, CA': 2, 'San Diego International Airport (SAN)': 1, 'West Whittier, CA': 2, 'San Carlos, CA': 2, 'French Valley, CA': 1, 'Fountain Valley, CA': 3, 'Del Aire, CA': 3, 'Soledad, CA': 1, 'Commerce, CA': 1, 'Adelanto, CA': 1, 'Larkspur, CA': 1, 'Hidden Valley Lake, CA': 1, 'Capitola, CA': 4, 'Earlimart, CA': 2, 'Chowchilla, CA': 1, 'Tracy, CA': 3, 'Claremont, CA': 2, 'Pittsburg, CA': 2, 'Tecate, Baja California': 7, 'San Clemente Pier': 1, 'Tenderloin, San Francisco': 1, 'FBI': 1, 'Laguna, CA': 2, 'Whittier, CA': 6, 'Rancho Mesa Verde, AZ': 1, 'Covina, CA': 1, 'Garnet, CA': 1, 'Union City, CA': 1, 'Rowland Heights, CA': 3, 'Escalon, CA': 1, 'Kensington, CA': 1, 'Bret Harte, CA': 3, 'San Dimas, CA': 4, 'Harbison Canyon, CA': 1, 'Doc Romeo Park': 2, 'Lake Elsinore, CA': 3, 'South Pasadena, CA': 1, 'Lawndale, CA': 5, 'Orangevale, CA': 5, 'Los Osos, CA': 1, 'Larkfield, CA': 2, 'Monterey Park, CA': 1, 'Huntington Park, CA': 3, 'Hanford, CA': 5, 'Hemet, CA': 6, 'San Rafael, CA': 1, 'Triangle Theory Training': 1, 'Bonita, CA': 2, 'Sand City, CA': 2, 'Berkeley Marina': 1, 'Corning, CA': 3, 'Hercules, CA': 2, 'Seal Beach, CA': 2, 'China Lake Acres, CA': 1, 'Palms, Los Angeles': 1, 'Treasure Island, San Francisco': 1, 'Calexico, CA': 1, 'Alpine, CA': 2, 'Santa Maria, CA': 1, 'Guadalupe, CA': 2, 'Santa Barbara Municipal Airport (SBA)': 1, 'Hayes Valley, San Francisco': 2, 'Home Garden, CA': 3, 'South Lake Tahoe, CA': 3, 'Imperial, CA': 1, 'Blackhawk, CA': 1, 'Coalinga, CA': 1, 'Templeton, CA': 1, 'Tri City Park': 1, 'Solvang, CA': 1, 'Dublin, CA': 1, 'The Home Depot': 1, 'Altadena, CA': 1, 'Highland, CA': 1, 'Jamestown, CA': 1, 'Summerland, CA': 1, 'Laughing Planet Café': 3, 'Canada': 1, 'Brea, CA': 1, 'Corcoran, CA': 1, 'Dinuba, CA': 1, 'Los Banos, CA': 1, 'Rolling Hills Estates, CA': 3, 'National City, CA': 2, 'BFG Communications': 1, 'Hacienda Heights, CA': 1, 'Laguna Niguel, CA': 1, 'Woodland Hills, Los Angeles': 1, 'Balboa Park': 1, 'Perris, CA': 2, 'Pink House In The Middle': 1, 'Tamalpais Valley, CA': 1, 'Jamul, CA': 2, 'Mayflower Village, CA': 4, 'Big Bear Lake, CA': 1, 'San Juan Capistrano, CA': 2, 'Bonadelle Ranchos, CA': 1, 'Montclair, CA': 1, 'Turlock, CA': 2, 'Hidden Hills, CA': 1, 'Ensenada, Baja California': 2, 'Boyes Hot Springs, CA': 1, 'Ramona, CA': 1, 'Banning, CA': 1, 'Target': 1, 'Belmont, CA': 1, 'West Rancho Domingue, CA': 1, 'South Beach, San Francisco': 1, 'Los Altos, CA': 1, 'Sonoma, CA': 1, 'Parker, AZ': 1, 'Universal City, Los Angeles': 1, 'Fortuna, CA': 1, 'Fortuna Foothills, AZ': 1, 'Paramount, CA': 2, 'Oak View, CA': 1, 'Lennox, CA': 1, 'Mexico': 2, 'Kingman, AZ': 1, 'Del Monte Forest, CA': 2, 'Orinda, CA': 3, 'Melrose Avenue Shopping': 1, 'East Hemet, CA': 1, 'Parkway, CA': 1, 'Cathedral City, CA': 1, 'Benicia, CA': 1, 'Lincoln Village, CA': 1, 'Millbrae, CA': 3, 'Rancho Santa Teresa, San Jose': 1, 'Maravilla': 1, 'Del Mar, CA': 1, 'California City, CA': 1, 'Joshua Tree, CA': 1, 'Blythe, CA': 1, 'McKinleyville, CA': 1, 'Crescent City North, CA': 1, 'Riverside County Regional Medical Center': 1, '30 South': 1, 'Native Foods': 1, 'Felton, CA': 1, 'Franklin, CA': 1, 'Carmel Valley Village, CA': 1, 'La Canada Flintridge, CA': 1, 'Studio City, Los Angeles': 1, 'Playas de Rosarito, Baja California': 1, 'Stanton, CA': 1, 'Novato, CA': 1}\n"
     ]
    }
   ],
   "source": [
    "with open(\"tweets/t2-50.txt\", \"r\") as content:\n",
    "  data = json.load(content)\n",
    "\n",
    "all_cities = {}\n",
    "for tweet in data:\n",
    "    cityname = tweet['tweet'][0]['geodata']['full_name']\n",
    "    if(cityname in all_cities): \n",
    "        all_cities[cityname]+=1\n",
    "    else:\n",
    "        all_cities[cityname] = 1\n",
    "    \n",
    "\n",
    "sorted_citie\n",
    "# print(sorted(all_cities))\n",
    "print(all_cities)"
   ]
  }
 ],
 "metadata": {
  "kernelspec": {
   "display_name": "Python 3",
   "language": "python",
   "name": "python3"
  },
  "language_info": {
   "codemirror_mode": {
    "name": "ipython",
    "version": 3
   },
   "file_extension": ".py",
   "mimetype": "text/x-python",
   "name": "python",
   "nbconvert_exporter": "python",
   "pygments_lexer": "ipython3",
   "version": "3.7.6"
  }
 },
 "nbformat": 4,
 "nbformat_minor": 4
}
