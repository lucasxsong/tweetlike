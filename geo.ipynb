{
 "cells": [
  {
   "cell_type": "code",
   "execution_count": 1,
   "metadata": {},
   "outputs": [],
   "source": [
    "# visualize our ds points to properly decide how to segment\n",
    "import json\n",
    "import pandas as pd\n",
    "import matplotlib.pyplot as plt"
   ]
  },
  {
   "cell_type": "code",
   "execution_count": 2,
   "metadata": {},
   "outputs": [],
   "source": [
    "import fileinput\n",
    "import re\n",
    "import os\n",
    "import time\n",
    "\n",
    "# helper function to convert our text files to json\n",
    "def text2json(text):\n",
    "    fin = fileinput.input(text, inplace=1)\n",
    "    for line in fin:\n",
    "        if fin.isfirstline():\n",
    "            print (\"[\" + line)\n",
    "        else:\n",
    "            print (\",\" + line)\n",
    "    fin.close()\n",
    "    \n",
    "    f = open(text,\"a\")\n",
    "    f.write(\"]\")\n",
    "    f.close()\n",
    "    \n",
    "# load json from textfile\n",
    "def loaddata(text): \n",
    "    # if json.load fails, format\n",
    "    try:\n",
    "        f = open(text, 'r')\n",
    "        data = json.load(f)\n",
    "        f.close()\n",
    "        return data \n",
    "    except:\n",
    "        print(\"Formatting \" + text + \"...\")\n",
    "#         text2json(text)\n",
    "        return loaddata(text)\n"
   ]
  },
  {
   "cell_type": "code",
   "execution_count": 3,
   "metadata": {},
   "outputs": [],
   "source": [
    "def countcities(filename):\n",
    "    data = loaddata(filename)\n",
    "    try: \n",
    "        for tweet in data:\n",
    "            if (tweet['tweet'][0].get('geodata')!=None\n",
    "                and tweet['tweet'][0]['geodata'].get('full_name')!=None):\n",
    "                cityname = tweet['tweet'][0]['geodata']['full_name']\n",
    "                if(cityname == 'Los Angeles, CA'):\n",
    "                    la.append(tweet)\n",
    "#                     print(tweet['tweet'][0]['text'])\n",
    "#                 if(cityname in all_cities): \n",
    "#                     all_cities[cityname]+=1\n",
    "#                 else:\n",
    "#                     all_cities[cityname] = 1\n",
    "        print(\"Finished converting file \" + filename)\n",
    "\n",
    "    except Exception as e:\n",
    "        print(\"Exception thrown: \" + str(e))                \n",
    "    return \n",
    "\n"
   ]
  },
  {
   "cell_type": "code",
   "execution_count": 5,
   "metadata": {},
   "outputs": [
    {
     "ename": "FileNotFoundError",
     "evalue": "[Errno 2] No such file or directory: '../cities/losangeles'",
     "output_type": "error",
     "traceback": [
      "\u001b[0;31m---------------------------------------------------------------------------\u001b[0m",
      "\u001b[0;31mFileNotFoundError\u001b[0m                         Traceback (most recent call last)",
      "\u001b[0;32m<ipython-input-5-a740c0828d6f>\u001b[0m in \u001b[0;36m<module>\u001b[0;34m\u001b[0m\n\u001b[1;32m     14\u001b[0m         \u001b[0mcountcities\u001b[0m\u001b[0;34m(\u001b[0m\u001b[0mf\u001b[0m\u001b[0;34m)\u001b[0m\u001b[0;34m\u001b[0m\u001b[0;34m\u001b[0m\u001b[0m\n\u001b[1;32m     15\u001b[0m \u001b[0;34m\u001b[0m\u001b[0m\n\u001b[0;32m---> 16\u001b[0;31m \u001b[0;32mwith\u001b[0m \u001b[0mopen\u001b[0m\u001b[0;34m(\u001b[0m\u001b[0;34m\"../cities/losangeles\"\u001b[0m\u001b[0;34m,\u001b[0m \u001b[0;34m'w'\u001b[0m\u001b[0;34m)\u001b[0m \u001b[0;32mas\u001b[0m \u001b[0mfile\u001b[0m\u001b[0;34m:\u001b[0m\u001b[0;34m\u001b[0m\u001b[0;34m\u001b[0m\u001b[0m\n\u001b[0m\u001b[1;32m     17\u001b[0m         \u001b[0mfile\u001b[0m\u001b[0;34m.\u001b[0m\u001b[0mwrite\u001b[0m\u001b[0;34m(\u001b[0m\u001b[0mjson\u001b[0m\u001b[0;34m.\u001b[0m\u001b[0mdumps\u001b[0m\u001b[0;34m(\u001b[0m\u001b[0mla\u001b[0m\u001b[0;34m)\u001b[0m\u001b[0;34m)\u001b[0m\u001b[0;34m\u001b[0m\u001b[0;34m\u001b[0m\u001b[0m\n\u001b[1;32m     18\u001b[0m \u001b[0;34m\u001b[0m\u001b[0m\n",
      "\u001b[0;31mFileNotFoundError\u001b[0m: [Errno 2] No such file or directory: '../cities/losangeles'"
     ]
    }
   ],
   "source": [
    "# os.chdir(\"tweets\")\n",
    "directory = os.getcwd()\n",
    "files = os.listdir(directory)\n",
    "all_cities = {}\n",
    "la = []\n",
    "\n",
    "# print(files)\n",
    "\n",
    "# countcities('t2-42.txt')\n",
    "\n",
    "for f in files:\n",
    "    filename, file_extension = os.path.splitext(f)\n",
    "    if(file_extension == '.txt'):\n",
    "        countcities(f)\n",
    "        \n",
    "with open(\"../cities/losangeles\", 'w') as file:\n",
    "        file.write(json.dumps(la))\n",
    "    \n",
    "print({k: v for k, v in sorted(all_cities.items(), reverse=True, key=lambda item: item[1])})"
   ]
  }
 ],
 "metadata": {
  "kernelspec": {
   "display_name": "Python 3",
   "language": "python",
   "name": "python3"
  },
  "language_info": {
   "codemirror_mode": {
    "name": "ipython",
    "version": 3
   },
   "file_extension": ".py",
   "mimetype": "text/x-python",
   "name": "python",
   "nbconvert_exporter": "python",
   "pygments_lexer": "ipython3",
   "version": "3.7.6"
  }
 },
 "nbformat": 4,
 "nbformat_minor": 4
}
