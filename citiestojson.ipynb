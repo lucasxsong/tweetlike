{
 "cells": [
  {
   "cell_type": "code",
   "execution_count": 57,
   "metadata": {},
   "outputs": [],
   "source": [
    "import json\n",
    "\n",
    "with open(\"writtencities.json\", \"r\") as file:\n",
    "    data = json.load(file)\n",
    "    \n",
    "a = []\n",
    "b = {}\n",
    "    \n",
    "for d in data:\n",
    "    b['text'] = d\n",
    "    b['key'] = d\n",
    "    b['value'] = d\n",
    "    a.append(b)\n",
    "    b = {}\n",
    "\n",
    "with open(\"dropdowncities.json\", \"w\") as ofile:\n",
    "    json.dump(a, ofile)"
   ]
  },
  {
   "cell_type": "code",
   "execution_count": null,
   "metadata": {},
   "outputs": [],
   "source": []
  }
 ],
 "metadata": {
  "kernelspec": {
   "display_name": "Python 3",
   "language": "python",
   "name": "python3"
  },
  "language_info": {
   "codemirror_mode": {
    "name": "ipython",
    "version": 3
   },
   "file_extension": ".py",
   "mimetype": "text/x-python",
   "name": "python",
   "nbconvert_exporter": "python",
   "pygments_lexer": "ipython3",
   "version": "3.7.6"
  }
 },
 "nbformat": 4,
 "nbformat_minor": 4
}
