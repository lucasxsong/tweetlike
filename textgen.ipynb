{
 "cells": [
  {
   "cell_type": "code",
   "execution_count": 7,
   "metadata": {},
   "outputs": [
    {
     "name": "stderr",
     "output_type": "stream",
     "text": [
      "Using TensorFlow backend.\n"
     ]
    }
   ],
   "source": [
    "from keras.preprocessing.sequence import pad_sequences\n",
    "from keras.layers import Embedding, LSTM, Dense, Dropout\n",
    "from keras.preprocessing.text import Tokenizer\n",
    "from keras.callbacks import EarlyStopping\n",
    "from keras.models import Sequential\n",
    "import keras.utils as ku \n",
    "\n",
    "# set seeds for reproducability\n",
    "import tensorflow as tf\n",
    "# from tensorflow import set_random_seed\n",
    "from numpy.random import seed\n",
    "\n",
    "tf.random.set_seed(2)\n",
    "seed(1)"
   ]
  },
  {
   "cell_type": "code",
   "execution_count": 4,
   "metadata": {},
   "outputs": [
    {
     "name": "stdout",
     "output_type": "stream",
     "text": [
      "['@cliterella My gay ass repositioning these lil shits under the soda machine for an hour every time the shipment comes in 😭😭😭😭', 'Got a new business partner today!  She’s none other than my client whom I helped rollover a year ago.   She’s glad… https://t.co/ZQgBSFMZlt', '@OSindemark @stringcheesey I would literally dedicate a cult to you', '😂', 'my great grandfather, so I can celebrate our birthdays together lmao', 'Free!! @MeltingPoems ~ May 1-3 https://t.co/K19ZA232ZT ~~ #amazonbestseller #meltingpoems #poems #poetry #firstbook… https://t.co/5bSQs2sX0W', 'Oh,,,,,, ANIMAL crossing,,,,, https://t.co/JWMFg6wLHp', 'If you don’t fuck with Chicano Batman n their new album don’t talk to me', '@Glock__Lesnar He really is the greatest to ever do it', '@100Glowz @mollyneiswende1 @Michaelmart11 @disneyplus Same']\n"
     ]
    }
   ],
   "source": [
    "import pandas as pd\n",
    "import numpy as np\n",
    "import string, os \n",
    "import json\n",
    "\n",
    "import warnings\n",
    "warnings.filterwarnings(\"ignore\")\n",
    "warnings.simplefilter(action='ignore', category=FutureWarning)\n",
    "\n",
    "# curr_dir = 'tweets/'\n",
    "# all_headlines = []\n",
    "# for filename in os.listdir(curr_dir):\n",
    "#     if 'Articles' in filename:\n",
    "#         article_df = pd.read_csv(curr_dir + filename)\n",
    "#         all_headlines.extend(list(article_df.headline.values))\n",
    "#         break\n",
    "\n",
    "\n",
    "all_tweets = []\n",
    "with open(\"cities/losangeles\", \"r\") as content:\n",
    "  data = json.load(content)\n",
    "\n",
    "\n",
    "for tweet in data:\n",
    "    all_tweets.append(tweet['tweet'][0]['text'])\n",
    "\n",
    "# TO DO, store tweets in alltweets\n",
    "\n",
    "all_tweets = [h for h in all_tweets if h != \"Unknown\"]\n",
    "print(all_tweets[:10])"
   ]
  },
  {
   "cell_type": "code",
   "execution_count": null,
   "metadata": {},
   "outputs": [],
   "source": []
  },
  {
   "cell_type": "code",
   "execution_count": 5,
   "metadata": {},
   "outputs": [
    {
     "data": {
      "text/plain": [
       "['cliterella my gay ass repositioning these lil shits under the soda machine for an hour every time the shipment comes in 😭😭😭😭',\n",
       " 'got a new business partner today  she’s none other than my client whom i helped rollover a year ago   she’s glad… httpstcozqgbsfmzlt',\n",
       " 'osindemark stringcheesey i would literally dedicate a cult to you',\n",
       " '😂',\n",
       " 'my great grandfather so i can celebrate our birthdays together lmao',\n",
       " 'free meltingpoems  may 13 httpstcok19za232zt  amazonbestseller meltingpoems poems poetry firstbook… httpstco5bsqs2sx0w',\n",
       " 'oh animal crossing httpstcojwmfg6wlhp',\n",
       " 'if you don’t fuck with chicano batman n their new album don’t talk to me',\n",
       " 'glocklesnar he really is the greatest to ever do it',\n",
       " '100glowz mollyneiswende1 michaelmart11 disneyplus same',\n",
       " 'i want me something dark skin fr',\n",
       " 'meandyouandeveryoneweknow and eternalsunshineofthespotlessmind made a pretty heady doublefeature for me tonight… httpstcoe1zsepasan',\n",
       " 'so deeply honored to be uplifted and seen for the deep ancestral work we are doing salamat sleepybxtchh for the l… httpstcoao4jxkhkny',\n",
       " 'harlequingrim i swear that pineapple is looking at me\\n\\nhey you got a problem  you keep looking at me like that… httpstcommkwuox0cq',\n",
       " 'where the fire beats at 😒',\n",
       " 'just posted a photo  south los angeles california httpstcofdd6wnkyfz',\n",
       " 'testgeohierarchy 3dc247b3e5c746f3add43893b583447a',\n",
       " 'hxh is already hurting me and i’m barely at ep 21 httpstcomrdrqrsycl',\n",
       " 'did you ever realize that tinker bell and peter pan have a sub dom relationship🤔💁🏼\\u200d♀️ httpstco0vpmms0lzt',\n",
       " 'bassnectoe samlikespizza93 nickelback they must have a tiny fan base httpstcoknbfwlir2f']"
      ]
     },
     "execution_count": 5,
     "metadata": {},
     "output_type": "execute_result"
    }
   ],
   "source": [
    "# note: clean_text removes emojis\n",
    "\n",
    "def clean_text(txt):\n",
    "    txt = \"\".join(v for v in txt if v not in string.punctuation).lower()\n",
    "#     txt = txt.encode(\"utf8\").decode(\"ascii\",'ignore')\n",
    "    return txt \n",
    "\n",
    "corpus = [clean_text(x) for x in all_tweets]\n",
    "corpus[:20]"
   ]
  },
  {
   "cell_type": "code",
   "execution_count": 8,
   "metadata": {
    "scrolled": true
   },
   "outputs": [
    {
     "data": {
      "text/plain": [
       "[[23700, 7],\n",
       " [23700, 7, 1007],\n",
       " [23700, 7, 1007, 142],\n",
       " [23700, 7, 1007, 142, 23701],\n",
       " [23700, 7, 1007, 142, 23701, 91],\n",
       " [23700, 7, 1007, 142, 23701, 91, 414],\n",
       " [23700, 7, 1007, 142, 23701, 91, 414, 2424],\n",
       " [23700, 7, 1007, 142, 23701, 91, 414, 2424, 721],\n",
       " [23700, 7, 1007, 142, 23701, 91, 414, 2424, 721, 2],\n",
       " [23700, 7, 1007, 142, 23701, 91, 414, 2424, 721, 2, 5039]]"
      ]
     },
     "execution_count": 8,
     "metadata": {},
     "output_type": "execute_result"
    }
   ],
   "source": [
    "tokenizer = Tokenizer()\n",
    "\n",
    "def get_sequence_of_tokens(corpus):\n",
    "    ## tokenization\n",
    "    tokenizer.fit_on_texts(corpus)\n",
    "    total_words = len(tokenizer.word_index) + 1\n",
    "    \n",
    "    ## convert data to sequence of tokens \n",
    "    input_sequences = []\n",
    "    for line in corpus:\n",
    "        token_list = tokenizer.texts_to_sequences([line])[0]\n",
    "        for i in range(1, len(token_list)):\n",
    "            n_gram_sequence = token_list[:i+1]\n",
    "            input_sequences.append(n_gram_sequence)\n",
    "    return input_sequences, total_words\n",
    "\n",
    "inp_sequences, total_words = get_sequence_of_tokens(corpus)\n",
    "inp_sequences[:10]"
   ]
  },
  {
   "cell_type": "code",
   "execution_count": 9,
   "metadata": {},
   "outputs": [],
   "source": [
    "def generate_padded_sequences(input_sequences):\n",
    "    max_sequence_len = max([len(x) for x in input_sequences])\n",
    "    input_sequences = np.array(pad_sequences(input_sequences, maxlen=max_sequence_len, padding='pre'))\n",
    "    \n",
    "    predictors, label = input_sequences[:,:-1],input_sequences[:,-1]\n",
    "    label = ku.to_categorical(label, num_classes=total_words)\n",
    "    return predictors, label, max_sequence_len\n",
    "\n",
    "predictors, label, max_sequence_len = generate_padded_sequences(inp_sequences)"
   ]
  },
  {
   "cell_type": "code",
   "execution_count": 10,
   "metadata": {},
   "outputs": [
    {
     "name": "stdout",
     "output_type": "stream",
     "text": [
      "Model: \"sequential_1\"\n",
      "_________________________________________________________________\n",
      "Layer (type)                 Output Shape              Param #   \n",
      "=================================================================\n",
      "embedding_1 (Embedding)      (None, 32, 10)            895470    \n",
      "_________________________________________________________________\n",
      "lstm_1 (LSTM)                (None, 100)               44400     \n",
      "_________________________________________________________________\n",
      "dropout_1 (Dropout)          (None, 100)               0         \n",
      "_________________________________________________________________\n",
      "dense_1 (Dense)              (None, 89547)             9044247   \n",
      "=================================================================\n",
      "Total params: 9,984,117\n",
      "Trainable params: 9,984,117\n",
      "Non-trainable params: 0\n",
      "_________________________________________________________________\n"
     ]
    }
   ],
   "source": [
    "def create_model(max_sequence_len, total_words):\n",
    "    input_len = max_sequence_len - 1\n",
    "    model = Sequential()\n",
    "    \n",
    "    # Add Input Embedding Layer\n",
    "    model.add(Embedding(total_words, 10, input_length=input_len))\n",
    "    \n",
    "    # Add Hidden Layer 1 - LSTM Layer\n",
    "    model.add(LSTM(100))\n",
    "    model.add(Dropout(0.1))\n",
    "    \n",
    "    # Add Output Layer\n",
    "    model.add(Dense(total_words, activation='softmax'))\n",
    "\n",
    "    model.compile(loss='categorical_crossentropy', optimizer='adam')\n",
    "    \n",
    "    return model\n",
    "\n",
    "model = create_model(max_sequence_len, total_words)\n",
    "model.summary()"
   ]
  },
  {
   "cell_type": "code",
   "execution_count": null,
   "metadata": {},
   "outputs": [
    {
     "name": "stdout",
     "output_type": "stream",
     "text": [
      "Epoch 1/20\n"
     ]
    }
   ],
   "source": [
    "model.fit(predictors, label, epochs=20, verbose=5)"
   ]
  },
  {
   "cell_type": "code",
   "execution_count": 2,
   "metadata": {},
   "outputs": [],
   "source": [
    "def generate_text(seed_text, next_words, model, max_sequence_len):\n",
    "    for _ in range(next_words):\n",
    "        token_list = tokenizer.texts_to_sequences([seed_text])[0]\n",
    "        token_list = pad_sequences([token_list], maxlen=max_sequence_len-1, padding='pre')\n",
    "        predicted = model.predict_classes(token_list, verbose=0)\n",
    "        \n",
    "        output_word = \"\"\n",
    "        for word,index in tokenizer.word_index.items():\n",
    "            if index == predicted:\n",
    "                output_word = word\n",
    "                break\n",
    "        seed_text += \" \"+output_word\n",
    "    return seed_text.title().lower()"
   ]
  },
  {
   "cell_type": "code",
   "execution_count": 3,
   "metadata": {},
   "outputs": [
    {
     "ename": "NameError",
     "evalue": "name 'model' is not defined",
     "output_type": "error",
     "traceback": [
      "\u001b[0;31m---------------------------------------------------------------------------\u001b[0m",
      "\u001b[0;31mNameError\u001b[0m                                 Traceback (most recent call last)",
      "\u001b[0;32m<ipython-input-3-c57f7d157eb1>\u001b[0m in \u001b[0;36m<module>\u001b[0;34m\u001b[0m\n\u001b[0;32m----> 1\u001b[0;31m \u001b[0mgenerate_text\u001b[0m\u001b[0;34m(\u001b[0m\u001b[0;34m\"dont\"\u001b[0m\u001b[0;34m,\u001b[0m \u001b[0;36m8\u001b[0m\u001b[0;34m,\u001b[0m \u001b[0mmodel\u001b[0m\u001b[0;34m,\u001b[0m \u001b[0mmax_sequence_len\u001b[0m\u001b[0;34m)\u001b[0m\u001b[0;34m\u001b[0m\u001b[0;34m\u001b[0m\u001b[0m\n\u001b[0m",
      "\u001b[0;31mNameError\u001b[0m: name 'model' is not defined"
     ]
    }
   ],
   "source": [
    "generate_text(\"dont\", 8, model, max_sequence_len)"
   ]
  }
 ],
 "metadata": {
  "kernelspec": {
   "display_name": "Python 3",
   "language": "python",
   "name": "python3"
  },
  "language_info": {
   "codemirror_mode": {
    "name": "ipython",
    "version": 3
   },
   "file_extension": ".py",
   "mimetype": "text/x-python",
   "name": "python",
   "nbconvert_exporter": "python",
   "pygments_lexer": "ipython3",
   "version": "3.7.6"
  }
 },
 "nbformat": 4,
 "nbformat_minor": 4
}
