{
 "cells": [
  {
   "cell_type": "code",
   "execution_count": 7,
   "metadata": {},
   "outputs": [
    {
     "name": "stderr",
     "output_type": "stream",
     "text": [
      "Using TensorFlow backend.\n"
     ]
    }
   ],
   "source": [
    "from keras.preprocessing.sequence import pad_sequences\n",
    "from keras.layers import Embedding, LSTM, Dense, Dropout\n",
    "from keras.preprocessing.text import Tokenizer\n",
    "from keras.callbacks import EarlyStopping\n",
    "from keras.models import Sequential\n",
    "import keras.utils as ku \n",
    "\n",
    "# set seeds for reproducability\n",
    "import tensorflow as tf\n",
    "# from tensorflow import set_random_seed\n",
    "from numpy.random import seed\n",
    "\n",
    "tf.random.set_seed(2)\n",
    "seed(1)"
   ]
  },
  {
   "cell_type": "code",
   "execution_count": 12,
   "metadata": {},
   "outputs": [
    {
     "name": "stdout",
     "output_type": "stream",
     "text": [
      "['‘It’s gonna be May’ zoom party. @allykwilliams @emgeorge5 @jtimberlake https://t.co/0EwZTFBCMr', 'https://t.co/sPktsNCp63', 'TEST_LAT/LON: 56fd5a28-db1d-48a6-bd53-17630cc508ec', '@Comeoutsidefoo_ @OHGEESY @OHGEESY EZ', '@caspervdveen @hdevreij @koryoinleiden @NCNKorea @RepMalinowski @SpeakerPelosi @AnnLinde @ministerBlok Ist… https://t.co/ZA817O4X9Q', '@oliverbruce @lennartnout @RafaelBurde @_chloeswarbrick Cool.\\nCan they go tell Georgia now?\\nhttps://t.co/ZxlgJ0jd1u', \"Just received a care package from my #Metamour who lives 4hrs away. It's home harvested honey, Elderberry Concentra… https://t.co/A3hcK6hNzA\", 'I promise, Kirk.', '@sadisticsystems It would be really neat if you were able to signal to the compiler / runtime to switch between cal… https://t.co/rSoMjyFPUC', 'food for thought. https://t.co/CAu0gs6us0']\n"
     ]
    }
   ],
   "source": [
    "import pandas as pd\n",
    "import numpy as np\n",
    "import string, os \n",
    "import json\n",
    "\n",
    "import warnings\n",
    "warnings.filterwarnings(\"ignore\")\n",
    "warnings.simplefilter(action='ignore', category=FutureWarning)\n",
    "\n",
    "# curr_dir = 'tweets/'\n",
    "# all_headlines = []\n",
    "# for filename in os.listdir(curr_dir):\n",
    "#     if 'Articles' in filename:\n",
    "#         article_df = pd.read_csv(curr_dir + filename)\n",
    "#         all_headlines.extend(list(article_df.headline.values))\n",
    "#         break\n",
    "\n",
    "\n",
    "all_tweets = []\n",
    "with open(\"cities/sanfrancisco\", \"r\") as content:\n",
    "  data = json.load(content)\n",
    "\n",
    "\n",
    "for tweet in data:\n",
    "    all_tweets.append(tweet['tweet'][0]['text'])\n",
    "\n",
    "# TO DO, store tweets in alltweets\n",
    "\n",
    "all_tweets = [h for h in all_tweets if h != \"Unknown\"]\n",
    "print(all_tweets[:10])"
   ]
  },
  {
   "cell_type": "code",
   "execution_count": null,
   "metadata": {},
   "outputs": [],
   "source": []
  },
  {
   "cell_type": "code",
   "execution_count": 13,
   "metadata": {},
   "outputs": [
    {
     "data": {
      "text/plain": [
       "['‘it’s gonna be may’ zoom party allykwilliams emgeorge5 jtimberlake httpstco0ewztfbcmr',\n",
       " 'httpstcospktsncp63',\n",
       " 'testlatlon 56fd5a28db1d48a6bd5317630cc508ec',\n",
       " 'comeoutsidefoo ohgeesy ohgeesy ez',\n",
       " 'caspervdveen hdevreij koryoinleiden ncnkorea repmalinowski speakerpelosi annlinde ministerblok ist… httpstcoza817o4x9q',\n",
       " 'oliverbruce lennartnout rafaelburde chloeswarbrick cool\\ncan they go tell georgia now\\nhttpstcozxlgj0jd1u',\n",
       " 'just received a care package from my metamour who lives 4hrs away its home harvested honey elderberry concentra… httpstcoa3hck6hnza',\n",
       " 'i promise kirk',\n",
       " 'sadisticsystems it would be really neat if you were able to signal to the compiler  runtime to switch between cal… httpstcorsomjyfpuc',\n",
       " 'food for thought httpstcocau0gs6us0',\n",
       " 'ferveneppon seguro bro te escribía porque eres el único venezolanojaponés que sigo hahaha',\n",
       " 'one day people will stop liking things just because they’re cute httpstcoxc1scj5a6g',\n",
       " 'i’m old',\n",
       " 'the winemaker of the stars opens new estate near healdsburg httpstcosnochuqqvz',\n",
       " 'prepare for the worst and hope for the best\\n\\nhttpstcowpklwobag2',\n",
       " 'listening to twigs ascending for the night httpstcohyow13kv3p',\n",
       " 'love will find a way ♥️',\n",
       " 'i feel like there no lighting like la’s lighting',\n",
       " 'patycake15 davidchang i’ve endured 4 after a ct scan doc says i have 17 left if it doesn’t kill you ',\n",
       " 'shannasantos bafohitch 😂😂😂😂']"
      ]
     },
     "execution_count": 13,
     "metadata": {},
     "output_type": "execute_result"
    }
   ],
   "source": [
    "# note: clean_text removes emojis\n",
    "\n",
    "def clean_text(txt):\n",
    "    txt = \"\".join(v for v in txt if v not in string.punctuation).lower()\n",
    "#     txt = txt.encode(\"utf8\").decode(\"ascii\",'ignore')\n",
    "    return txt \n",
    "\n",
    "corpus = [clean_text(x) for x in all_tweets]\n",
    "corpus[:20]"
   ]
  },
  {
   "cell_type": "code",
   "execution_count": 14,
   "metadata": {
    "scrolled": true
   },
   "outputs": [
    {
     "data": {
      "text/plain": [
       "[[8153, 251],\n",
       " [8153, 251, 18],\n",
       " [8153, 251, 18, 8154],\n",
       " [8153, 251, 18, 8154, 437],\n",
       " [8153, 251, 18, 8154, 437, 394],\n",
       " [8153, 251, 18, 8154, 437, 394, 8155],\n",
       " [8153, 251, 18, 8154, 437, 394, 8155, 4873],\n",
       " [8153, 251, 18, 8154, 437, 394, 8155, 4873, 2272],\n",
       " [8153, 251, 18, 8154, 437, 394, 8155, 4873, 2272, 8156],\n",
       " [36, 8158]]"
      ]
     },
     "execution_count": 14,
     "metadata": {},
     "output_type": "execute_result"
    }
   ],
   "source": [
    "tokenizer = Tokenizer()\n",
    "\n",
    "def get_sequence_of_tokens(corpus):\n",
    "    ## tokenization\n",
    "    tokenizer.fit_on_texts(corpus)\n",
    "    total_words = len(tokenizer.word_index) + 1\n",
    "    \n",
    "    ## convert data to sequence of tokens \n",
    "    input_sequences = []\n",
    "    for line in corpus:\n",
    "        token_list = tokenizer.texts_to_sequences([line])[0]\n",
    "        for i in range(1, len(token_list)):\n",
    "            n_gram_sequence = token_list[:i+1]\n",
    "            input_sequences.append(n_gram_sequence)\n",
    "    return input_sequences, total_words\n",
    "\n",
    "inp_sequences, total_words = get_sequence_of_tokens(corpus)\n",
    "inp_sequences[:10]"
   ]
  },
  {
   "cell_type": "code",
   "execution_count": 15,
   "metadata": {},
   "outputs": [],
   "source": [
    "def generate_padded_sequences(input_sequences):\n",
    "    max_sequence_len = max([len(x) for x in input_sequences])\n",
    "    input_sequences = np.array(pad_sequences(input_sequences, maxlen=max_sequence_len, padding='pre'))\n",
    "    \n",
    "    predictors, label = input_sequences[:,:-1],input_sequences[:,-1]\n",
    "    label = ku.to_categorical(label, num_classes=total_words)\n",
    "    return predictors, label, max_sequence_len\n",
    "\n",
    "predictors, label, max_sequence_len = generate_padded_sequences(inp_sequences)"
   ]
  },
  {
   "cell_type": "code",
   "execution_count": 16,
   "metadata": {},
   "outputs": [
    {
     "name": "stdout",
     "output_type": "stream",
     "text": [
      "Model: \"sequential_2\"\n",
      "_________________________________________________________________\n",
      "Layer (type)                 Output Shape              Param #   \n",
      "=================================================================\n",
      "embedding_2 (Embedding)      (None, 29, 10)            284620    \n",
      "_________________________________________________________________\n",
      "lstm_2 (LSTM)                (None, 100)               44400     \n",
      "_________________________________________________________________\n",
      "dropout_2 (Dropout)          (None, 100)               0         \n",
      "_________________________________________________________________\n",
      "dense_2 (Dense)              (None, 28462)             2874662   \n",
      "=================================================================\n",
      "Total params: 3,203,682\n",
      "Trainable params: 3,203,682\n",
      "Non-trainable params: 0\n",
      "_________________________________________________________________\n"
     ]
    }
   ],
   "source": [
    "def create_model(max_sequence_len, total_words):\n",
    "    input_len = max_sequence_len - 1\n",
    "    model = Sequential()\n",
    "    \n",
    "    # Add Input Embedding Layer\n",
    "    model.add(Embedding(total_words, 10, input_length=input_len))\n",
    "    \n",
    "    # Add Hidden Layer 1 - LSTM Layer\n",
    "    model.add(LSTM(100))\n",
    "    model.add(Dropout(0.1))\n",
    "    \n",
    "    # Add Output Layer\n",
    "    model.add(Dense(total_words, activation='softmax'))\n",
    "\n",
    "    model.compile(loss='categorical_crossentropy', optimizer='adam')\n",
    "    \n",
    "    return model\n",
    "\n",
    "model = create_model(max_sequence_len, total_words)\n",
    "model.summary()"
   ]
  },
  {
   "cell_type": "code",
   "execution_count": null,
   "metadata": {},
   "outputs": [
    {
     "name": "stdout",
     "output_type": "stream",
     "text": [
      "Epoch 1/20\n"
     ]
    }
   ],
   "source": [
    "model.fit(predictors, label, epochs=20, verbose=5)"
   ]
  },
  {
   "cell_type": "code",
   "execution_count": 2,
   "metadata": {},
   "outputs": [],
   "source": [
    "def generate_text(seed_text, next_words, model, max_sequence_len):\n",
    "    for _ in range(next_words):\n",
    "        token_list = tokenizer.texts_to_sequences([seed_text])[0]\n",
    "        token_list = pad_sequences([token_list], maxlen=max_sequence_len-1, padding='pre')\n",
    "        predicted = model.predict_classes(token_list, verbose=0)\n",
    "        \n",
    "        output_word = \"\"\n",
    "        for word,index in tokenizer.word_index.items():\n",
    "            if index == predicted:\n",
    "                output_word = word\n",
    "                break\n",
    "        seed_text += \" \"+output_word\n",
    "    return seed_text.title().lower()"
   ]
  },
  {
   "cell_type": "code",
   "execution_count": 3,
   "metadata": {},
   "outputs": [
    {
     "ename": "NameError",
     "evalue": "name 'model' is not defined",
     "output_type": "error",
     "traceback": [
      "\u001b[0;31m---------------------------------------------------------------------------\u001b[0m",
      "\u001b[0;31mNameError\u001b[0m                                 Traceback (most recent call last)",
      "\u001b[0;32m<ipython-input-3-c57f7d157eb1>\u001b[0m in \u001b[0;36m<module>\u001b[0;34m\u001b[0m\n\u001b[0;32m----> 1\u001b[0;31m \u001b[0mgenerate_text\u001b[0m\u001b[0;34m(\u001b[0m\u001b[0;34m\"dont\"\u001b[0m\u001b[0;34m,\u001b[0m \u001b[0;36m8\u001b[0m\u001b[0;34m,\u001b[0m \u001b[0mmodel\u001b[0m\u001b[0;34m,\u001b[0m \u001b[0mmax_sequence_len\u001b[0m\u001b[0;34m)\u001b[0m\u001b[0;34m\u001b[0m\u001b[0;34m\u001b[0m\u001b[0m\n\u001b[0m",
      "\u001b[0;31mNameError\u001b[0m: name 'model' is not defined"
     ]
    }
   ],
   "source": [
    "generate_text(\"dont\", 8, model, max_sequence_len)"
   ]
  }
 ],
 "metadata": {
  "kernelspec": {
   "display_name": "Python 3",
   "language": "python",
   "name": "python3"
  },
  "language_info": {
   "codemirror_mode": {
    "name": "ipython",
    "version": 3
   },
   "file_extension": ".py",
   "mimetype": "text/x-python",
   "name": "python",
   "nbconvert_exporter": "python",
   "pygments_lexer": "ipython3",
   "version": "3.7.6"
  }
 },
 "nbformat": 4,
 "nbformat_minor": 4
}
