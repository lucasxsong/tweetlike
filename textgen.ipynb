{
 "cells": [
  {
   "cell_type": "code",
   "execution_count": 8,
   "metadata": {},
   "outputs": [],
   "source": [
    "from keras.preprocessing.sequence import pad_sequences\n",
    "from keras.layers import Embedding, LSTM, Dense, Dropout\n",
    "from keras.preprocessing.text import Tokenizer\n",
    "from keras.callbacks import EarlyStopping\n",
    "from keras.models import Sequential\n",
    "import keras.utils as ku \n",
    "\n",
    "# set seeds for reproducability\n",
    "import tensorflow as tf\n",
    "# from tensorflow import set_random_seed\n",
    "from numpy.random import seed\n",
    "\n",
    "tf.random.set_seed(2)\n",
    "seed(1)"
   ]
  },
  {
   "cell_type": "code",
   "execution_count": 51,
   "metadata": {},
   "outputs": [
    {
     "name": "stdout",
     "output_type": "stream",
     "text": [
      "['This new Marca MP album is the one 🔥', '@ariannaochoa__ accurate 😂', '@De_Majorman @broooookieeeeee @pulte @paige_corley Did you receive anything yet? Pls lmk 🙏🏾', '😂😂😂😂😂😂', 'We’re back tomorrow at Bel Air!! 😆Our first stop of this month. Miss our food come to see us tomorrow at 📍100 Bel A… https://t.co/c7xxAg3HaN', '*my mom', '@Birdyword @codinghorror Agreed. It’s nearly inedible.', '@mamianuh I think just a bakery but they might have other stuff, @tjmotuga1 what’s your fams spot in Riverside?', 'Calling all @SFSU #Students #alumni -We need you to let future #Gators know why they should come to #sfsu-\\nEncourag… https://t.co/XC5fbulvnn', '@LA_ALEX4 @Ar_8choa Bro come on rings 🙄😂😂']\n"
     ]
    }
   ],
   "source": [
    "import pandas as pd\n",
    "import numpy as np\n",
    "import string, os \n",
    "import json\n",
    "\n",
    "import warnings\n",
    "warnings.filterwarnings(\"ignore\")\n",
    "warnings.simplefilter(action='ignore', category=FutureWarning)\n",
    "\n",
    "# curr_dir = 'tweets/'\n",
    "# all_headlines = []\n",
    "# for filename in os.listdir(curr_dir):\n",
    "#     if 'Articles' in filename:\n",
    "#         article_df = pd.read_csv(curr_dir + filename)\n",
    "#         all_headlines.extend(list(article_df.headline.values))\n",
    "#         break\n",
    "\n",
    "\n",
    "all_tweets = []\n",
    "with open(\"tweets/t2-50.txt\", \"r\") as content:\n",
    "  data = json.load(content)\n",
    "\n",
    "\n",
    "for tweet in data:\n",
    "    all_tweets.append(tweet['tweet'][0]['text'])\n",
    "\n",
    "# TO DO, store tweets in alltweets\n",
    "\n",
    "all_tweets = [h for h in all_tweets if h != \"Unknown\"]\n",
    "print(all_tweets[:10])"
   ]
  },
  {
   "cell_type": "code",
   "execution_count": null,
   "metadata": {},
   "outputs": [],
   "source": []
  },
  {
   "cell_type": "code",
   "execution_count": 93,
   "metadata": {},
   "outputs": [
    {
     "data": {
      "text/plain": [
       "['this new marca mp album is the one 🔥',\n",
       " 'ariannaochoa accurate 😂',\n",
       " 'demajorman broooookieeeeee pulte paigecorley did you receive anything yet pls lmk 🙏🏾',\n",
       " '😂😂😂😂😂😂',\n",
       " 'we’re back tomorrow at bel air 😆our first stop of this month miss our food come to see us tomorrow at 📍100 bel a… httpstcoc7xxag3han',\n",
       " 'my mom',\n",
       " 'birdyword codinghorror agreed it’s nearly inedible',\n",
       " 'mamianuh i think just a bakery but they might have other stuff tjmotuga1 what’s your fams spot in riverside',\n",
       " 'calling all sfsu students alumni we need you to let future gators know why they should come to sfsu\\nencourag… httpstcoxc5fbulvnn',\n",
       " 'laalex4 ar8choa bro come on rings 🙄😂😂',\n",
       " 'psychhype thekjohnston httpstco2msdsuwqfw',\n",
       " 'happy birthday ladies and many more',\n",
       " 'romankinggg this you 😂',\n",
       " 'smdailypress last year the selfappointed city council in sm passed the “anti mansion” laws significantly reducin… httpstcoqd4pfinjtk',\n",
       " 'ivanoozee show me these star projectors i have one too but it’s not fancy fancy',\n",
       " '👍👍👍👍👍👍👍👍👍👍👍',\n",
       " 'القلبُ لِمن زرع القلب و رَوّاهْ \\nو الحُب لِمن خلق الحُب و سوّاهْ',\n",
       " 'sawsonrl not getting the faze up flavor kinda weiiiiird',\n",
       " 'fuerzamonarca raeinforma heypaaaaaaaaaaa ajuaaaaaaaaaaaaaaaa pues kien massssssssssssssss el monarcas morelia',\n",
       " 'rossyopee httpstcocek07fddev']"
      ]
     },
     "execution_count": 93,
     "metadata": {},
     "output_type": "execute_result"
    }
   ],
   "source": [
    "# note: clean_text removes emojis\n",
    "\n",
    "def clean_text(txt):\n",
    "    txt = \"\".join(v for v in txt if v not in string.punctuation).lower()\n",
    "#     txt = txt.encode(\"utf8\").decode(\"ascii\",'ignore')\n",
    "    return txt \n",
    "\n",
    "corpus = [clean_text(x) for x in all_tweets]\n",
    "corpus[:20]"
   ]
  },
  {
   "cell_type": "code",
   "execution_count": 94,
   "metadata": {
    "scrolled": true
   },
   "outputs": [
    {
     "data": {
      "text/plain": [
       "[[11, 102],\n",
       " [11, 102, 3685],\n",
       " [11, 102, 3685, 3686],\n",
       " [11, 102, 3685, 3686, 941],\n",
       " [11, 102, 3685, 3686, 941, 8],\n",
       " [11, 102, 3685, 3686, 941, 8, 1],\n",
       " [11, 102, 3685, 3686, 941, 8, 1, 43],\n",
       " [11, 102, 3685, 3686, 941, 8, 1, 43, 388],\n",
       " [3687, 2094],\n",
       " [3687, 2094, 86]]"
      ]
     },
     "execution_count": 94,
     "metadata": {},
     "output_type": "execute_result"
    }
   ],
   "source": [
    "tokenizer = Tokenizer()\n",
    "\n",
    "def get_sequence_of_tokens(corpus):\n",
    "    ## tokenization\n",
    "    tokenizer.fit_on_texts(corpus)\n",
    "    total_words = len(tokenizer.word_index) + 1\n",
    "    \n",
    "    ## convert data to sequence of tokens \n",
    "    input_sequences = []\n",
    "    for line in corpus:\n",
    "        token_list = tokenizer.texts_to_sequences([line])[0]\n",
    "        for i in range(1, len(token_list)):\n",
    "            n_gram_sequence = token_list[:i+1]\n",
    "            input_sequences.append(n_gram_sequence)\n",
    "    return input_sequences, total_words\n",
    "\n",
    "inp_sequences, total_words = get_sequence_of_tokens(corpus)\n",
    "inp_sequences[:10]"
   ]
  },
  {
   "cell_type": "code",
   "execution_count": 95,
   "metadata": {},
   "outputs": [],
   "source": [
    "def generate_padded_sequences(input_sequences):\n",
    "    max_sequence_len = max([len(x) for x in input_sequences])\n",
    "    input_sequences = np.array(pad_sequences(input_sequences, maxlen=max_sequence_len, padding='pre'))\n",
    "    \n",
    "    predictors, label = input_sequences[:,:-1],input_sequences[:,-1]\n",
    "    label = ku.to_categorical(label, num_classes=total_words)\n",
    "    return predictors, label, max_sequence_len\n",
    "\n",
    "predictors, label, max_sequence_len = generate_padded_sequences(inp_sequences)"
   ]
  },
  {
   "cell_type": "code",
   "execution_count": 96,
   "metadata": {},
   "outputs": [
    {
     "name": "stdout",
     "output_type": "stream",
     "text": [
      "Model: \"sequential_2\"\n",
      "_________________________________________________________________\n",
      "Layer (type)                 Output Shape              Param #   \n",
      "=================================================================\n",
      "embedding_2 (Embedding)      (None, 30, 10)            141770    \n",
      "_________________________________________________________________\n",
      "lstm_2 (LSTM)                (None, 100)               44400     \n",
      "_________________________________________________________________\n",
      "dropout_2 (Dropout)          (None, 100)               0         \n",
      "_________________________________________________________________\n",
      "dense_2 (Dense)              (None, 14177)             1431877   \n",
      "=================================================================\n",
      "Total params: 1,618,047\n",
      "Trainable params: 1,618,047\n",
      "Non-trainable params: 0\n",
      "_________________________________________________________________\n"
     ]
    }
   ],
   "source": [
    "def create_model(max_sequence_len, total_words):\n",
    "    input_len = max_sequence_len - 1\n",
    "    model = Sequential()\n",
    "    \n",
    "    # Add Input Embedding Layer\n",
    "    model.add(Embedding(total_words, 10, input_length=input_len))\n",
    "    \n",
    "    # Add Hidden Layer 1 - LSTM Layer\n",
    "    model.add(LSTM(100))\n",
    "    model.add(Dropout(0.1))\n",
    "    \n",
    "    # Add Output Layer\n",
    "    model.add(Dense(total_words, activation='softmax'))\n",
    "\n",
    "    model.compile(loss='categorical_crossentropy', optimizer='adam')\n",
    "    \n",
    "    return model\n",
    "\n",
    "model = create_model(max_sequence_len, total_words)\n",
    "model.summary()"
   ]
  },
  {
   "cell_type": "code",
   "execution_count": 126,
   "metadata": {},
   "outputs": [
    {
     "name": "stdout",
     "output_type": "stream",
     "text": [
      "Epoch 1/20\n",
      "Epoch 2/20\n",
      "Epoch 3/20\n",
      "Epoch 4/20\n",
      "Epoch 5/20\n",
      "Epoch 6/20\n",
      "Epoch 7/20\n",
      "Epoch 8/20\n",
      "Epoch 9/20\n",
      "Epoch 10/20\n",
      "Epoch 11/20\n",
      "Epoch 12/20\n",
      "Epoch 13/20\n",
      "Epoch 14/20\n",
      "Epoch 15/20\n",
      "Epoch 16/20\n",
      "Epoch 17/20\n",
      "Epoch 18/20\n",
      "Epoch 19/20\n",
      "Epoch 20/20\n"
     ]
    },
    {
     "data": {
      "text/plain": [
       "<keras.callbacks.callbacks.History at 0x642598450>"
      ]
     },
     "execution_count": 126,
     "metadata": {},
     "output_type": "execute_result"
    }
   ],
   "source": [
    "model.fit(predictors, label, epochs=20, verbose=5)"
   ]
  },
  {
   "cell_type": "code",
   "execution_count": 142,
   "metadata": {},
   "outputs": [],
   "source": [
    "def generate_text(seed_text, next_words, model, max_sequence_len):\n",
    "    for _ in range(next_words):\n",
    "        token_list = tokenizer.texts_to_sequences([seed_text])[0]\n",
    "        token_list = pad_sequences([token_list], maxlen=max_sequence_len-1, padding='pre')\n",
    "        predicted = model.predict_classes(token_list, verbose=0)\n",
    "        \n",
    "        output_word = \"\"\n",
    "        for word,index in tokenizer.word_index.items():\n",
    "            if index == predicted:\n",
    "                output_word = word\n",
    "                break\n",
    "        seed_text += \" \"+output_word\n",
    "    return seed_text.title().lower()"
   ]
  },
  {
   "cell_type": "code",
   "execution_count": 161,
   "metadata": {},
   "outputs": [
    {
     "data": {
      "text/plain": [
       "'dont do you httpstcog6iv2wx1f1 anyone for this of sanditonpbs'"
      ]
     },
     "execution_count": 161,
     "metadata": {},
     "output_type": "execute_result"
    }
   ],
   "source": [
    "generate_text(\"dont\", 8, model, max_sequence_len)"
   ]
  }
 ],
 "metadata": {
  "kernelspec": {
   "display_name": "Python 3",
   "language": "python",
   "name": "python3"
  },
  "language_info": {
   "codemirror_mode": {
    "name": "ipython",
    "version": 3
   },
   "file_extension": ".py",
   "mimetype": "text/x-python",
   "name": "python",
   "nbconvert_exporter": "python",
   "pygments_lexer": "ipython3",
   "version": "3.7.6"
  }
 },
 "nbformat": 4,
 "nbformat_minor": 4
}
