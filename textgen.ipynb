{
 "cells": [
  {
   "cell_type": "code",
   "execution_count": 2,
   "metadata": {},
   "outputs": [
    {
     "name": "stderr",
     "output_type": "stream",
     "text": [
      "Using TensorFlow backend.\n"
     ]
    }
   ],
   "source": [
    "from keras.preprocessing.sequence import pad_sequences\n",
    "from keras.layers import Embedding, LSTM, Dense, Dropout\n",
    "from keras.preprocessing.text import Tokenizer\n",
    "from keras.callbacks import EarlyStopping\n",
    "from keras.models import Sequential\n",
    "import keras.utils as ku \n",
    "\n",
    "# set seeds for reproducability\n",
    "import tensorflow as tf\n",
    "# from tensorflow import set_random_seed\n",
    "from numpy.random import seed\n",
    "\n",
    "tf.random.set_seed(2)\n",
    "seed(1)"
   ]
  },
  {
   "cell_type": "code",
   "execution_count": 3,
   "metadata": {},
   "outputs": [
    {
     "name": "stdout",
     "output_type": "stream",
     "text": [
      "['Thank god for giving me the grace &amp; strength to finish all my final essays in 5 days 🙏🏽🙏🏽', '[16:53:30] 184.105.139.82:58639 &gt;&gt; :123 (UDP)', '@iqra_rafeeq اقرا بیبی لگتا ہے تم اپنے پچھلے جنم میں ایک مانا ہوا جاہل مُلا تھیں۔ alcohol پینا حرام ہے۔ اسکو disinf… https://t.co/UVkPr9NczR', '[17:13:36] 184.105.139.121:56259 &gt;&gt; :19 (UDP)', '@PaprikaPink @tweetbrk Me too. *sniff*', 'Your “friends” really aren’t your friends if they don’t tell you that your foundation is too light', 'when a mf twitches in his sleep, it’s the lies tryna comeout - alejandra', '@Glukoska Информацию надо дозировать!', '#COVID @MichelleObama @ObamaFoundation @ObamaMalik https://t.co/iUe77Q2eez', 'you’ve got desires, I know ✨ https://t.co/Ugax9hZPwp']\n"
     ]
    }
   ],
   "source": [
    "import pandas as pd\n",
    "import numpy as np\n",
    "import string, os \n",
    "import json\n",
    "\n",
    "import warnings\n",
    "warnings.filterwarnings(\"ignore\")\n",
    "warnings.simplefilter(action='ignore', category=FutureWarning)\n",
    "\n",
    "# curr_dir = 'tweets/'\n",
    "# all_headlines = []\n",
    "# for filename in os.listdir(curr_dir):\n",
    "#     if 'Articles' in filename:\n",
    "#         article_df = pd.read_csv(curr_dir + filename)\n",
    "#         all_headlines.extend(list(article_df.headline.values))\n",
    "#         break\n",
    "\n",
    "\n",
    "all_tweets = []\n",
    "with open(\"cities/fremont\", \"r\") as content:\n",
    "  data = json.load(content)\n",
    "\n",
    "\n",
    "for tweet in data:\n",
    "    all_tweets.append(tweet['tweet'][0]['text'])\n",
    "\n",
    "# TO DO, store tweets in alltweets\n",
    "\n",
    "all_tweets = [h for h in all_tweets if h != \"Unknown\"]\n",
    "print(all_tweets[:10])"
   ]
  },
  {
   "cell_type": "code",
   "execution_count": 6,
   "metadata": {},
   "outputs": [
    {
     "data": {
      "text/plain": [
       "['Thank god for giving me the grace &amp; strength to finish all my final essays in 5 days 🙏🏽🙏🏽',\n",
       " '[16:53:30] 184.105.139.82:58639 &gt;&gt; :123 (UDP)',\n",
       " '@iqra_rafeeq اقرا بیبی لگتا ہے تم اپنے پچھلے جنم میں ایک مانا ہوا جاہل مُلا تھیں۔ alcohol پینا حرام ہے۔ اسکو disinf… https://t.co/UVkPr9NczR',\n",
       " '[17:13:36] 184.105.139.121:56259 &gt;&gt; :19 (UDP)',\n",
       " '@PaprikaPink @tweetbrk Me too. *sniff*',\n",
       " 'Your “friends” really aren’t your friends if they don’t tell you that your foundation is too light',\n",
       " 'when a mf twitches in his sleep, it’s the lies tryna comeout - alejandra',\n",
       " '@Glukoska Информацию надо дозировать!',\n",
       " '#COVID @MichelleObama @ObamaFoundation @ObamaMalik https://t.co/iUe77Q2eez',\n",
       " 'you’ve got desires, I know ✨ https://t.co/Ugax9hZPwp',\n",
       " 'I only wear makeup every three weeks so y’all gone have to keep seeing my pretty face in that same fit 😂',\n",
       " 'We should be in LA rn going up for Rucc Dawg’s birthday 🥺',\n",
       " 'Cactus https://t.co/PK5BWiGDb5',\n",
       " 'Ducks https://t.co/2rE5gLk5V1',\n",
       " 'chicks https://t.co/M6jzhKTBvF',\n",
       " 'family https://t.co/hlzWsykDSv',\n",
       " 'Wildflowers and creek https://t.co/BFCUXucOql',\n",
       " '!!!',\n",
       " '“You really think you’re all that and a bag of chips?” \\nMe: https://t.co/5U0tfDVhCY',\n",
       " 'The Great Realisation https://t.co/H97YtALG06 via @YouTube',\n",
       " '@TheOliveKnife Aatma ka koi ling nahi ...',\n",
       " 'I don’t think we’ll ever understand why but until the cure is found, let’s label it a mental illness.',\n",
       " '@DailDawson1 @CRZYRedHead2018 https://t.co/aVmrnOzn7H',\n",
       " 'At this point California is a puppy on its back getting its belly rubbed. #COVID',\n",
       " '115网盘资源,绝无重复,有想要的可以微信我,Yuxiangyuan690 $$拒绝伸手党 https://t.co/JbKrLg9otS',\n",
       " 'izzy really thought i shoved my dildo up my ass LMAO',\n",
       " '@rww_gop https://t.co/Qsj26cZp3K',\n",
       " '@EM_KA_17 @justdeplorible Total deaths is cut in half. Keep democrats at home. Republicans are free to roam.',\n",
       " '[01:03:24] 216.218.206.70:38833 &gt;&gt; :2323 (TCP:SYN)',\n",
       " '#ENOFLOVEep8 จบแค่นี้หรอ???คู่นี้ไม่ควรมีแค่4ep  ดูไม่พอ!!! แม่งไม่อยากให้จบ จะร้องแล้ว😭😭😭😭😭 https://t.co/hIvPr5BFSQ']"
      ]
     },
     "execution_count": 6,
     "metadata": {},
     "output_type": "execute_result"
    }
   ],
   "source": [
    "# note: clean_text removes emojis\n",
    "\n",
    "def clean_text(txt):\n",
    "#     txt = \"\".join(v for v in txt if v not in string.punctuation).lower()\n",
    "#     txt = txt.encode(\"utf8\").decode(\"ascii\",'ignore')\n",
    "    return txt \n",
    "\n",
    "corpus = [clean_text(x) for x in all_tweets]\n",
    "corpus[:30]"
   ]
  },
  {
   "cell_type": "code",
   "execution_count": 7,
   "metadata": {
    "scrolled": true
   },
   "outputs": [
    {
     "data": {
      "text/plain": [
       "[[80, 168],\n",
       " [80, 168, 16],\n",
       " [80, 168, 16, 237],\n",
       " [80, 168, 16, 237, 25],\n",
       " [80, 168, 16, 237, 25, 5],\n",
       " [80, 168, 16, 237, 25, 5, 1237],\n",
       " [80, 168, 16, 237, 25, 5, 1237, 93],\n",
       " [80, 168, 16, 237, 25, 5, 1237, 93, 1238],\n",
       " [80, 168, 16, 237, 25, 5, 1237, 93, 1238, 6],\n",
       " [80, 168, 16, 237, 25, 5, 1237, 93, 1238, 6, 1239]]"
      ]
     },
     "execution_count": 7,
     "metadata": {},
     "output_type": "execute_result"
    }
   ],
   "source": [
    "tokenizer = Tokenizer()\n",
    "\n",
    "def get_sequence_of_tokens(corpus):\n",
    "    ## tokenization\n",
    "    tokenizer.fit_on_texts(corpus)\n",
    "    total_words = len(tokenizer.word_index) + 1\n",
    "    \n",
    "    ## convert data to sequence of tokens \n",
    "    input_sequences = []\n",
    "    for line in corpus:\n",
    "        token_list = tokenizer.texts_to_sequences([line])[0]\n",
    "        for i in range(1, len(token_list)):\n",
    "            n_gram_sequence = token_list[:i+1]\n",
    "            input_sequences.append(n_gram_sequence)\n",
    "    return input_sequences, total_words\n",
    "\n",
    "inp_sequences, total_words = get_sequence_of_tokens(corpus)\n",
    "inp_sequences[:10]"
   ]
  },
  {
   "cell_type": "code",
   "execution_count": 8,
   "metadata": {},
   "outputs": [],
   "source": [
    "def generate_padded_sequences(input_sequences):\n",
    "    max_sequence_len = max([len(x) for x in input_sequences])\n",
    "    input_sequences = np.array(pad_sequences(input_sequences, maxlen=max_sequence_len, padding='pre'))\n",
    "    \n",
    "    predictors, label = input_sequences[:,:-1],input_sequences[:,-1]\n",
    "    label = ku.to_categorical(label, num_classes=total_words)\n",
    "    return predictors, label, max_sequence_len\n",
    "\n",
    "predictors, label, max_sequence_len = generate_padded_sequences(inp_sequences)"
   ]
  },
  {
   "cell_type": "code",
   "execution_count": 38,
   "metadata": {},
   "outputs": [
    {
     "name": "stdout",
     "output_type": "stream",
     "text": [
      "Model: \"sequential_6\"\n",
      "_________________________________________________________________\n",
      "Layer (type)                 Output Shape              Param #   \n",
      "=================================================================\n",
      "embedding_6 (Embedding)      (None, 29, 10)            45040     \n",
      "_________________________________________________________________\n",
      "lstm_6 (LSTM)                (None, 100)               44400     \n",
      "_________________________________________________________________\n",
      "dropout_6 (Dropout)          (None, 100)               0         \n",
      "_________________________________________________________________\n",
      "dense_6 (Dense)              (None, 4504)              454904    \n",
      "=================================================================\n",
      "Total params: 544,344\n",
      "Trainable params: 544,344\n",
      "Non-trainable params: 0\n",
      "_________________________________________________________________\n"
     ]
    }
   ],
   "source": [
    "def create_model(max_sequence_len, total_words):\n",
    "    input_len = max_sequence_len - 1\n",
    "    model = Sequential()\n",
    "    \n",
    "    # Add Input Embedding Layer\n",
    "    model.add(Embedding(total_words, 10, input_length=input_len))\n",
    "    \n",
    "    # Add Hidden Layer 1 - LSTM Layer\n",
    "    model.add(LSTM(100))\n",
    "    model.add(Dropout(0.1))\n",
    "    \n",
    "    # Add Output Layer\n",
    "    model.add(Dense(total_words, activation='softmax'))\n",
    "\n",
    "    model.compile(loss='categorical_crossentropy', optimizer='adam')\n",
    "    \n",
    "    return model\n",
    "\n",
    "model = create_model(max_sequence_len, total_words)\n",
    "model.summary()"
   ]
  },
  {
   "cell_type": "code",
   "execution_count": null,
   "metadata": {},
   "outputs": [],
   "source": []
  },
  {
   "cell_type": "code",
   "execution_count": 10,
   "metadata": {},
   "outputs": [
    {
     "name": "stdout",
     "output_type": "stream",
     "text": [
      "Epoch 1/50\n",
      "Epoch 2/50\n",
      "Epoch 3/50\n",
      "Epoch 4/50\n",
      "Epoch 5/50\n",
      "Epoch 6/50\n",
      "Epoch 7/50\n",
      "Epoch 8/50\n",
      "Epoch 9/50\n",
      "Epoch 10/50\n",
      "Epoch 11/50\n",
      "Epoch 12/50\n",
      "Epoch 13/50\n",
      "Epoch 14/50\n",
      "Epoch 15/50\n",
      "Epoch 16/50\n",
      "Epoch 17/50\n",
      "Epoch 18/50\n",
      "Epoch 19/50\n",
      "Epoch 20/50\n",
      "Epoch 21/50\n",
      "Epoch 22/50\n",
      "Epoch 23/50\n",
      "Epoch 24/50\n",
      "Epoch 25/50\n",
      "Epoch 26/50\n",
      "Epoch 27/50\n",
      "Epoch 28/50\n",
      "Epoch 29/50\n",
      "Epoch 30/50\n",
      "Epoch 31/50\n",
      "Epoch 32/50\n",
      "Epoch 33/50\n",
      "Epoch 34/50\n",
      "Epoch 35/50\n",
      "Epoch 36/50\n",
      "Epoch 37/50\n",
      "Epoch 38/50\n",
      "Epoch 39/50\n",
      "Epoch 40/50\n",
      "Epoch 41/50\n",
      "Epoch 42/50\n",
      "Epoch 43/50\n",
      "Epoch 44/50\n",
      "Epoch 45/50\n",
      "Epoch 46/50\n",
      "Epoch 47/50\n",
      "Epoch 48/50\n",
      "Epoch 49/50\n",
      "Epoch 50/50\n"
     ]
    },
    {
     "data": {
      "text/plain": [
       "<keras.callbacks.callbacks.History at 0x63541b9d0>"
      ]
     },
     "execution_count": 10,
     "metadata": {},
     "output_type": "execute_result"
    }
   ],
   "source": [
    "\n",
    "model.fit(predictors, label, epochs=50, verbose=5)"
   ]
  },
  {
   "cell_type": "code",
   "execution_count": 11,
   "metadata": {},
   "outputs": [],
   "source": [
    "def generate_text(seed_text, next_words, model, max_sequence_len):\n",
    "    for _ in range(next_words):\n",
    "        token_list = tokenizer.texts_to_sequences([seed_text])[0]\n",
    "        token_list = pad_sequences([token_list], maxlen=max_sequence_len-1, padding='pre')\n",
    "        predicted = model.predict_classes(token_list, verbose=0)\n",
    "        \n",
    "        output_word = \"\"\n",
    "        for word,index in tokenizer.word_index.items():\n",
    "            if index == predicted:\n",
    "                output_word = word\n",
    "                break\n",
    "        seed_text += \" \"+output_word\n",
    "    return seed_text.title().lower()"
   ]
  },
  {
   "cell_type": "code",
   "execution_count": 33,
   "metadata": {},
   "outputs": [
    {
     "data": {
      "text/plain": [
       "'we just realized i thought i don’t god i don’t a'"
      ]
     },
     "execution_count": 33,
     "metadata": {},
     "output_type": "execute_result"
    }
   ],
   "source": [
    "generate_text(\"we\", 10, model, max_sequence_len)"
   ]
  },
  {
   "cell_type": "code",
   "execution_count": null,
   "metadata": {},
   "outputs": [],
   "source": []
  }
 ],
 "metadata": {
  "kernelspec": {
   "display_name": "Python 3",
   "language": "python",
   "name": "python3"
  },
  "language_info": {
   "codemirror_mode": {
    "name": "ipython",
    "version": 3
   },
   "file_extension": ".py",
   "mimetype": "text/x-python",
   "name": "python",
   "nbconvert_exporter": "python",
   "pygments_lexer": "ipython3",
   "version": "3.7.6"
  }
 },
 "nbformat": 4,
 "nbformat_minor": 4
}
